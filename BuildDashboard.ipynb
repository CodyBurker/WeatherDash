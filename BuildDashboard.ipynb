{
 "cells": [
  {
   "cell_type": "code",
   "execution_count": null,
   "metadata": {},
   "outputs": [],
   "source": [
    "# Build and clean dataset\n",
    "import pandas as pd\n",
    "import altair as alt\n",
    "import geopandas as gpd\n",
    "from multiprocessing import Pool\n",
    "import json\n",
    "import plotly.express as px\n",
    "import plotly.graph_objects as go\n",
    "import pyproj\n",
    "import math"
   ]
  },
  {
   "attachments": {},
   "cell_type": "markdown",
   "metadata": {},
   "source": [
    "Based on https://www.ncei.noaa.gov/news/noaa-offers-climate-data-counties NClimDiv\n",
    "\n",
    "https://www.ncei.noaa.gov/pub/data/cirs/climdiv/"
   ]
  },
  {
   "cell_type": "code",
   "execution_count": null,
   "metadata": {},
   "outputs": [],
   "source": [
    "div_weather = pd.read_parquet('climdiv-tmpcdv-v1.0.0-20230504.parquet')\n",
    "div_weather['state_div'] = div_weather['state_code'] + div_weather['division_number']\n",
    "div_weather.set_index('state_div', inplace=True)\n",
    "div_weather.head()"
   ]
  },
  {
   "cell_type": "code",
   "execution_count": null,
   "metadata": {},
   "outputs": [],
   "source": [
    "# Read in the shapefile of climate divisions\n",
    "gdf = gpd.read_file('CONUS_CLIMATE_DIVISIONS.shp/GIS.OFFICIAL_CLIM_DIVISIONS.shp')\n",
    "# gdf_converted = gdf.to_crs(pyproj.CRS.from_epsg(4326))\n",
    "gdf_converted = gdf\n",
    "gdf_converted['division_number'] = gdf_converted['CD_NEW'].apply(lambda x: f'{int(x):02d}0')\n",
    "gdf_converted['state_code'] = gdf_converted['STATE_FIPS']\n",
    "gdf_converted['state_div'] = gdf_converted['state_code'] + gdf_converted['division_number']\n",
    "gdf_converted.set_index('state_div', inplace=True)\n",
    "gdf_converted.plot()"
   ]
  },
  {
   "cell_type": "code",
   "execution_count": null,
   "metadata": {},
   "outputs": [],
   "source": []
  },
  {
   "cell_type": "code",
   "execution_count": null,
   "metadata": {},
   "outputs": [],
   "source": [
    "# # Join the weather data to the shapefile\n",
    "# gdf_weather_23 = gdf_converted.merge(div_weather.query('year == \"2023\" and month == \"01\"'), on = 'state_div', how='left')\n",
    "# # Create background map to fill in missing values\n",
    "# foreground = alt.Chart(gdf_weather_23).mark_geoshape().encode(\n",
    "#     color = 'value:Q',\n",
    "#     # Add outlines\n",
    "#     stroke = alt.value('black'),\n",
    "# ).project(\n",
    "#     type = 'albersUsa'\n",
    "# ).properties(\n",
    "#     width = 800,\n",
    "#     height= 800\n",
    "# ).add_params(\n",
    "#     alt.selection_interval(bind='scales')\n",
    "# )\n",
    "\n",
    "\n",
    "# background = alt.Chart(gdf_weather_23).mark_geoshape(\n",
    "#     color = 'lightgray',\n",
    "#     stroke = 'darkgrey',\n",
    "# ).project(\n",
    "#     type = 'albersUsa'\n",
    "# ).properties(\n",
    "#     width = 800,\n",
    "#     height= 800\n",
    "# ).add_params(\n",
    "#     alt.selection_interval(bind='scales')\n",
    "# )\n",
    "\n",
    "# chart = background + foreground\n",
    "# chart"
   ]
  },
  {
   "cell_type": "code",
   "execution_count": null,
   "metadata": {},
   "outputs": [],
   "source": [
    "# Join the weather data to the shapefile\n",
    "gdf_weather = gdf_converted.merge(div_weather, on = 'state_div', how='outer')\n",
    "gdf_weather_23 = gdf_converted.merge(div_weather.query('year == \"2023\" and month == \"01\"'), on = 'state_div', how='outer')"
   ]
  },
  {
   "cell_type": "code",
   "execution_count": null,
   "metadata": {},
   "outputs": [],
   "source": [
    "gdf_weather_23.plot(column = 'value', \n",
    "                    legend = True, \n",
    "                    missing_kwds={\n",
    "                        \"color\": \"lightgrey\",\n",
    "                        \"edgecolor\": \"grey\",\n",
    "                        \"hatch\": \"///\",\n",
    "                        \"label\": \"Missing values\",},\n",
    "                    figsize = (20,10))"
   ]
  },
  {
   "cell_type": "code",
   "execution_count": null,
   "metadata": {},
   "outputs": [],
   "source": [
    "# Create bokeh map\n",
    "# Import figure\n",
    "from bokeh.plotting import figure, show, output_file\n",
    "from bokeh.palettes import Viridis256 as palette\n",
    "from bokeh.transform import linear_cmap\n",
    "from bokeh.models import GeoJSONDataSource\n",
    "\n",
    "\n",
    "\n",
    "p = figure(title = \"Weather Map\",\n",
    "              x_axis_label = 'Longitude',\n",
    "                y_axis_label = 'Latitude')\n",
    "\n",
    "\n",
    "\n",
    "\n",
    "states = p.patches(\n",
    "    'xs','ys',\n",
    "    fill_color = 'blue',\n",
    "    fill_alpha = 0.7,\n",
    "    line_color = 'black',\n",
    "    line_width = 0.5,\n",
    "    source = GeoJSONDataSource(geojson = gdf_weather_23[['geometry','value']].to_json())\n",
    ")\n",
    "# show(p)"
   ]
  },
  {
   "cell_type": "code",
   "execution_count": null,
   "metadata": {},
   "outputs": [],
   "source": [
    "# Create plotly map\n",
    "# First create new variable with WGS84 CRS\n",
    "gdf_weather_23_plt = gdf_weather_23\n",
    "gdf_weather_23_plt['geometry'] = gdf_weather_23_plt['geometry'].to_crs(\"WGS84\")"
   ]
  },
  {
   "cell_type": "code",
   "execution_count": null,
   "metadata": {},
   "outputs": [],
   "source": [
    "# px.choropleth_mapbox(\n",
    "#     gdf_weather_23_plt,\n",
    "#     geojson = gdf_weather_23_plt.geometry,\n",
    "#     locations = gdf_weather_23_plt.index,\n",
    "#     color = 'value',\n",
    "#     color_continuous_scale = 'Viridis',\n",
    "#     mapbox_style = 'carto-positron',\n",
    "#     zoom = 3\n",
    "# )"
   ]
  }
 ],
 "metadata": {
  "kernelspec": {
   "display_name": "base",
   "language": "python",
   "name": "python3"
  },
  "language_info": {
   "codemirror_mode": {
    "name": "ipython",
    "version": 3
   },
   "file_extension": ".py",
   "mimetype": "text/x-python",
   "name": "python",
   "nbconvert_exporter": "python",
   "pygments_lexer": "ipython3",
   "version": "3.9.6"
  },
  "orig_nbformat": 4
 },
 "nbformat": 4,
 "nbformat_minor": 2
}
